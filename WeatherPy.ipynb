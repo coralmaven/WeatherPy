{
 "cells": [
  {
   "cell_type": "markdown",
   "metadata": {},
   "source": [
    "A Python script to visualize the weather of 500+ cities across the world of varying distance from the equator.\n"
   ]
  },
  {
   "cell_type": "markdown",
   "metadata": {},
   "source": [
    "![title](equatorsign.png)"
   ]
  },
  {
   "cell_type": "markdown",
   "metadata": {},
   "source": [
    "# WeatherPy\n",
    "----\n",
    "\n",
    "### Our Dataset:\n",
    "\n",
    "----\n",
    "\n",
    "The range of latitudes for the cities is -55 to +79. Most of the cities fall between latitudes of -30 to +50. Since the northern hemisphere has a lot more land than the southern hemisphere, we can expect to have more cities in the Northern Hemisphere. In fact, about 90 percent of the world's people live in the Northern Hemisphere.\n",
    "\n",
    "----\n",
    "\n",
    "### Analysis\n",
    "\n",
    "----\n",
    "\n",
    "* The Southern Hemisphere is currently tilted towards the sun and is therefore warmer than the Northern Hemisphere. From the above scatter plot you see that the weather gets warmer as it approaches the equator (0 Deg. Latitude) and then as we move North away from the equator, it gets colder at a faster rate. If we ran this analysis in September, the plot would probably be a mirror image of this one.\n",
    "\n",
    "* Humidity does not seem to be related to the Latitude. It may relate to the proximity of the city to water bodies. There seems to be a strong band of cities with 100% humidity.\n",
    "\n",
    "* There seems to be no relation between Latitude and Cloudiness. There is a strong band of cities with 0% cloudiness.\n",
    "* Latitude and wind speed do not seem to be related. But the city with the highest wind speed is in the Northern Hemisphere.\n",
    "\n",
    "----\n"
   ]
  },
  {
   "cell_type": "code",
   "execution_count": 1,
   "metadata": {},
   "outputs": [],
   "source": [
    "# Dependencies and Setup\n",
    "import matplotlib.pyplot as plt\n",
    "import pandas as pd\n",
    "import numpy as np\n",
    "import requests\n",
    "import time\n",
    "import openweathermapy.core as owm\n",
    "\n",
    "# Import API key\n",
    "import keys.api_keys as key\n",
    "\n",
    "# Incorporated citipy to determine city based on latitude and longitude\n",
    "from citipy import citipy\n",
    "\n",
    "# Output File (CSV)\n",
    "output_data_file = \"output_data/cities.csv\"\n",
    "\n",
    "# Range of latitudes and longitudes\n",
    "lat_range = (-90, 90)\n",
    "lng_range = (-180, 180)"
   ]
  },
  {
   "cell_type": "markdown",
   "metadata": {},
   "source": [
    "## Generate Cities List"
   ]
  },
  {
   "cell_type": "code",
   "execution_count": 2,
   "metadata": {},
   "outputs": [
    {
     "data": {
      "text/plain": [
       "1500"
      ]
     },
     "execution_count": 2,
     "metadata": {},
     "output_type": "execute_result"
    }
   ],
   "source": [
    "# List for holding lat_lngs and cities\n",
    "lat_lngs = []\n",
    "cities = []\n",
    "\n",
    "# Create a set of random lat and lng combinations\n",
    "lats = np.random.uniform(low=-90.000, high=90.000, size=1500)\n",
    "lngs = np.random.uniform(low=-180.000, high=180.000, size=1500)\n",
    "lat_lngs = zip(lats, lngs)\n",
    "\n",
    "# Identify nearest city for each lat, lng combination\n",
    "for lat_lng in lat_lngs:\n",
    "    city = citipy.nearest_city(lat_lng[0], lat_lng[1]).city_name\n",
    "    \n",
    "    # If the city is unique, then add it to a our cities list\n",
    "    if city not in cities:\n",
    "        cities.append(city.title())\n",
    "\n",
    "# Print the city count to confirm sufficient count\n",
    "len(cities)"
   ]
  },
  {
   "cell_type": "markdown",
   "metadata": {},
   "source": [
    "### Perform API Calls\n",
    "* Perform a weather check on each city using a series of successive API calls.\n",
    "* Include a print log of each city as it'sbeing processed (with the city number and city name).\n"
   ]
  },
  {
   "cell_type": "code",
   "execution_count": 3,
   "metadata": {},
   "outputs": [],
   "source": [
    "\n",
    "# Create settings dictionary with information we're interested in\n",
    "f = open('output/MissingCitiesInOWM.txt','w')\n",
    "settings = {\"units\": \"metric\", \"appid\": key.api_key}\n",
    "def getWeather(city):\n",
    "    weather = np.nan\n",
    "    try:\n",
    "        weather = owm.get_current(city, **settings)\n",
    "    except Exception as e:\n",
    "        f.write(\"Weather Data missing for {} : {}\\n\".format(city, e))\n",
    "    return weather"
   ]
  },
  {
   "cell_type": "code",
   "execution_count": 4,
   "metadata": {},
   "outputs": [
    {
     "data": {
      "text/plain": [
       "City            1500\n",
       "weather_data    1367\n",
       "dtype: int64"
      ]
     },
     "execution_count": 4,
     "metadata": {},
     "output_type": "execute_result"
    }
   ],
   "source": [
    "# Create a Pandas DataFrame with the results\n",
    "df = pd.DataFrame({\"City\":cities})\n",
    "df[\"weather_data\"] = df[\"City\"].map(getWeather)\n",
    "f.close()\n",
    "df.count()"
   ]
  },
  {
   "cell_type": "code",
   "execution_count": 5,
   "metadata": {},
   "outputs": [
    {
     "data": {
      "text/plain": [
       "City            1367\n",
       "weather_data    1367\n",
       "dtype: int64"
      ]
     },
     "execution_count": 5,
     "metadata": {},
     "output_type": "execute_result"
    }
   ],
   "source": [
    "# Drop all rows with cities that have no weather data\n",
    "df = df.dropna(how=\"any\")\n",
    "df.count()"
   ]
  },
  {
   "cell_type": "code",
   "execution_count": 6,
   "metadata": {},
   "outputs": [],
   "source": [
    "# Extract the temperature, latitude and longitude in each city\n",
    "df[\"Latitude\"] = df[\"weather_data\"].map(lambda weather:weather(\"coord.lat\"))\n",
    "df[\"Longitude\"] = df[\"weather_data\"].map(lambda weather:weather(\"coord.lon\"))\n",
    "df[\"Temparature\"] = df[\"weather_data\"].map(lambda weather:weather(\"main.temp\"))\n",
    "df[\"Humidity\"] = df[\"weather_data\"].map(lambda weather:weather(\"main.humidity\"))\n",
    "df[\"Cloudiness\"] = df[\"weather_data\"].map(lambda weather:weather(\"clouds.all\"))\n",
    "df[\"Wind Speed\"] = df[\"weather_data\"].map(lambda weather:weather(\"wind.speed\"))\n",
    "df[\"Current Weather\"] = df[\"weather_data\"].map(lambda weather:weather(\"weather\")[0].get(\"description\"))\n",
    "df[\"Country\"] = df[\"weather_data\"].map(lambda weather:weather(\"sys.country\"))\n",
    "\n",
    "# delete the weather data object since we have now extracted all the required data\n",
    "del(df[\"weather_data\"])\n",
    "df = df[[\"City\", \"Country\", \"Latitude\", \"Longitude\", \"Temparature\",\\\n",
    "         \"Humidity\", \"Cloudiness\", \"Wind Speed\",\"Current Weather\"]]\n"
   ]
  },
  {
   "cell_type": "markdown",
   "metadata": {},
   "source": [
    "### Convert Raw Data to DataFrame\n",
    "* Export the city data into a .csv.\n",
    "* Display the DataFrame"
   ]
  },
  {
   "cell_type": "code",
   "execution_count": 7,
   "metadata": {},
   "outputs": [],
   "source": [
    "df.to_csv(\"cityWeather.csv\")"
   ]
  },
  {
   "cell_type": "code",
   "execution_count": 8,
   "metadata": {},
   "outputs": [],
   "source": [
    "!open \"cityWeather.csv\""
   ]
  },
  {
   "cell_type": "code",
   "execution_count": 9,
   "metadata": {},
   "outputs": [
    {
     "data": {
      "text/html": [
       "<div>\n",
       "<style scoped>\n",
       "    .dataframe tbody tr th:only-of-type {\n",
       "        vertical-align: middle;\n",
       "    }\n",
       "\n",
       "    .dataframe tbody tr th {\n",
       "        vertical-align: top;\n",
       "    }\n",
       "\n",
       "    .dataframe thead th {\n",
       "        text-align: right;\n",
       "    }\n",
       "</style>\n",
       "<table border=\"1\" class=\"dataframe\">\n",
       "  <thead>\n",
       "    <tr style=\"text-align: right;\">\n",
       "      <th></th>\n",
       "      <th>City</th>\n",
       "      <th>Country</th>\n",
       "      <th>Latitude</th>\n",
       "      <th>Longitude</th>\n",
       "      <th>Temparature</th>\n",
       "      <th>Humidity</th>\n",
       "      <th>Cloudiness</th>\n",
       "      <th>Wind Speed</th>\n",
       "      <th>Current Weather</th>\n",
       "    </tr>\n",
       "  </thead>\n",
       "  <tbody>\n",
       "    <tr>\n",
       "      <th>0</th>\n",
       "      <td>Waitara</td>\n",
       "      <td>NZ</td>\n",
       "      <td>-39.00</td>\n",
       "      <td>174.24</td>\n",
       "      <td>21.67</td>\n",
       "      <td>52</td>\n",
       "      <td>92</td>\n",
       "      <td>3.13</td>\n",
       "      <td>light rain</td>\n",
       "    </tr>\n",
       "    <tr>\n",
       "      <th>1</th>\n",
       "      <td>Dikson</td>\n",
       "      <td>RU</td>\n",
       "      <td>73.51</td>\n",
       "      <td>80.55</td>\n",
       "      <td>-21.00</td>\n",
       "      <td>82</td>\n",
       "      <td>36</td>\n",
       "      <td>12.70</td>\n",
       "      <td>scattered clouds</td>\n",
       "    </tr>\n",
       "    <tr>\n",
       "      <th>2</th>\n",
       "      <td>Hilo</td>\n",
       "      <td>US</td>\n",
       "      <td>19.71</td>\n",
       "      <td>-155.08</td>\n",
       "      <td>23.41</td>\n",
       "      <td>44</td>\n",
       "      <td>75</td>\n",
       "      <td>3.10</td>\n",
       "      <td>broken clouds</td>\n",
       "    </tr>\n",
       "    <tr>\n",
       "      <th>3</th>\n",
       "      <td>San Antonio</td>\n",
       "      <td>CL</td>\n",
       "      <td>-33.58</td>\n",
       "      <td>-71.61</td>\n",
       "      <td>16.55</td>\n",
       "      <td>77</td>\n",
       "      <td>0</td>\n",
       "      <td>3.10</td>\n",
       "      <td>clear sky</td>\n",
       "    </tr>\n",
       "    <tr>\n",
       "      <th>4</th>\n",
       "      <td>Port Alfred</td>\n",
       "      <td>ZA</td>\n",
       "      <td>-33.59</td>\n",
       "      <td>26.89</td>\n",
       "      <td>17.48</td>\n",
       "      <td>71</td>\n",
       "      <td>12</td>\n",
       "      <td>3.13</td>\n",
       "      <td>few clouds</td>\n",
       "    </tr>\n",
       "  </tbody>\n",
       "</table>\n",
       "</div>"
      ],
      "text/plain": [
       "          City Country  Latitude  Longitude  Temparature  Humidity  \\\n",
       "0      Waitara      NZ    -39.00     174.24        21.67        52   \n",
       "1       Dikson      RU     73.51      80.55       -21.00        82   \n",
       "2         Hilo      US     19.71    -155.08        23.41        44   \n",
       "3  San Antonio      CL    -33.58     -71.61        16.55        77   \n",
       "4  Port Alfred      ZA    -33.59      26.89        17.48        71   \n",
       "\n",
       "   Cloudiness  Wind Speed   Current Weather  \n",
       "0          92        3.13        light rain  \n",
       "1          36       12.70  scattered clouds  \n",
       "2          75        3.10     broken clouds  \n",
       "3           0        3.10         clear sky  \n",
       "4          12        3.13        few clouds  "
      ]
     },
     "execution_count": 9,
     "metadata": {},
     "output_type": "execute_result"
    }
   ],
   "source": [
    "df.head()"
   ]
  },
  {
   "cell_type": "markdown",
   "metadata": {},
   "source": [
    "# How does our dataset look like?"
   ]
  },
  {
   "cell_type": "code",
   "execution_count": 10,
   "metadata": {},
   "outputs": [
    {
     "data": {
      "text/html": [
       "<div>\n",
       "<style scoped>\n",
       "    .dataframe tbody tr th:only-of-type {\n",
       "        vertical-align: middle;\n",
       "    }\n",
       "\n",
       "    .dataframe tbody tr th {\n",
       "        vertical-align: top;\n",
       "    }\n",
       "\n",
       "    .dataframe thead th {\n",
       "        text-align: right;\n",
       "    }\n",
       "</style>\n",
       "<table border=\"1\" class=\"dataframe\">\n",
       "  <thead>\n",
       "    <tr style=\"text-align: right;\">\n",
       "      <th></th>\n",
       "      <th>Latitude</th>\n",
       "      <th>Longitude</th>\n",
       "      <th>Temparature</th>\n",
       "      <th>Humidity</th>\n",
       "      <th>Cloudiness</th>\n",
       "      <th>Wind Speed</th>\n",
       "    </tr>\n",
       "  </thead>\n",
       "  <tbody>\n",
       "    <tr>\n",
       "      <th>count</th>\n",
       "      <td>1367.000000</td>\n",
       "      <td>1367.000000</td>\n",
       "      <td>1367.000000</td>\n",
       "      <td>1367.000000</td>\n",
       "      <td>1367.000000</td>\n",
       "      <td>1367.000000</td>\n",
       "    </tr>\n",
       "    <tr>\n",
       "      <th>mean</th>\n",
       "      <td>8.363431</td>\n",
       "      <td>1.977791</td>\n",
       "      <td>10.820629</td>\n",
       "      <td>71.604243</td>\n",
       "      <td>37.329188</td>\n",
       "      <td>4.621895</td>\n",
       "    </tr>\n",
       "    <tr>\n",
       "      <th>std</th>\n",
       "      <td>39.878110</td>\n",
       "      <td>98.403533</td>\n",
       "      <td>14.980209</td>\n",
       "      <td>19.808581</td>\n",
       "      <td>34.562777</td>\n",
       "      <td>3.342072</td>\n",
       "    </tr>\n",
       "    <tr>\n",
       "      <th>min</th>\n",
       "      <td>-54.810000</td>\n",
       "      <td>-179.170000</td>\n",
       "      <td>-40.100000</td>\n",
       "      <td>8.000000</td>\n",
       "      <td>0.000000</td>\n",
       "      <td>0.250000</td>\n",
       "    </tr>\n",
       "    <tr>\n",
       "      <th>25%</th>\n",
       "      <td>-30.970000</td>\n",
       "      <td>-73.750000</td>\n",
       "      <td>1.565000</td>\n",
       "      <td>55.000000</td>\n",
       "      <td>0.000000</td>\n",
       "      <td>2.100000</td>\n",
       "    </tr>\n",
       "    <tr>\n",
       "      <th>50%</th>\n",
       "      <td>8.960000</td>\n",
       "      <td>3.910000</td>\n",
       "      <td>14.030000</td>\n",
       "      <td>73.000000</td>\n",
       "      <td>36.000000</td>\n",
       "      <td>4.100000</td>\n",
       "    </tr>\n",
       "    <tr>\n",
       "      <th>75%</th>\n",
       "      <td>42.650000</td>\n",
       "      <td>87.705000</td>\n",
       "      <td>23.410000</td>\n",
       "      <td>86.000000</td>\n",
       "      <td>75.000000</td>\n",
       "      <td>6.690000</td>\n",
       "    </tr>\n",
       "    <tr>\n",
       "      <th>max</th>\n",
       "      <td>78.220000</td>\n",
       "      <td>179.320000</td>\n",
       "      <td>33.940000</td>\n",
       "      <td>100.000000</td>\n",
       "      <td>100.000000</td>\n",
       "      <td>24.200000</td>\n",
       "    </tr>\n",
       "  </tbody>\n",
       "</table>\n",
       "</div>"
      ],
      "text/plain": [
       "          Latitude    Longitude  Temparature     Humidity   Cloudiness  \\\n",
       "count  1367.000000  1367.000000  1367.000000  1367.000000  1367.000000   \n",
       "mean      8.363431     1.977791    10.820629    71.604243    37.329188   \n",
       "std      39.878110    98.403533    14.980209    19.808581    34.562777   \n",
       "min     -54.810000  -179.170000   -40.100000     8.000000     0.000000   \n",
       "25%     -30.970000   -73.750000     1.565000    55.000000     0.000000   \n",
       "50%       8.960000     3.910000    14.030000    73.000000    36.000000   \n",
       "75%      42.650000    87.705000    23.410000    86.000000    75.000000   \n",
       "max      78.220000   179.320000    33.940000   100.000000   100.000000   \n",
       "\n",
       "        Wind Speed  \n",
       "count  1367.000000  \n",
       "mean      4.621895  \n",
       "std       3.342072  \n",
       "min       0.250000  \n",
       "25%       2.100000  \n",
       "50%       4.100000  \n",
       "75%       6.690000  \n",
       "max      24.200000  "
      ]
     },
     "execution_count": 10,
     "metadata": {},
     "output_type": "execute_result"
    }
   ],
   "source": [
    "df.describe()"
   ]
  },
  {
   "cell_type": "markdown",
   "metadata": {},
   "source": [
    "The range of latitudes for the cities is -55 to +79. Most of the cities fall between latitudes of -30 to +50.\n",
    "Since the northern hemisphere has a lot more land than the southern hemisphere, we can expect to have more cities in the Northern Hemisphere.\n",
    "In fact, about 90 percent of the world's people live in the Northern Hemisphere. "
   ]
  },
  {
   "cell_type": "code",
   "execution_count": 11,
   "metadata": {},
   "outputs": [
    {
     "data": {
      "text/html": [
       "<div>\n",
       "<style scoped>\n",
       "    .dataframe tbody tr th:only-of-type {\n",
       "        vertical-align: middle;\n",
       "    }\n",
       "\n",
       "    .dataframe tbody tr th {\n",
       "        vertical-align: top;\n",
       "    }\n",
       "\n",
       "    .dataframe thead th {\n",
       "        text-align: right;\n",
       "    }\n",
       "</style>\n",
       "<table border=\"1\" class=\"dataframe\">\n",
       "  <thead>\n",
       "    <tr style=\"text-align: right;\">\n",
       "      <th></th>\n",
       "      <th>Counts</th>\n",
       "      <th>%Counts</th>\n",
       "    </tr>\n",
       "    <tr>\n",
       "      <th>Region</th>\n",
       "      <th></th>\n",
       "      <th></th>\n",
       "    </tr>\n",
       "  </thead>\n",
       "  <tbody>\n",
       "    <tr>\n",
       "      <th>Northern Hemisphere</th>\n",
       "      <td>757</td>\n",
       "      <td>55.38</td>\n",
       "    </tr>\n",
       "    <tr>\n",
       "      <th>Southern Hemisphere</th>\n",
       "      <td>610</td>\n",
       "      <td>44.62</td>\n",
       "    </tr>\n",
       "    <tr>\n",
       "      <th>World</th>\n",
       "      <td>1367</td>\n",
       "      <td>100.00</td>\n",
       "    </tr>\n",
       "  </tbody>\n",
       "</table>\n",
       "</div>"
      ],
      "text/plain": [
       "                     Counts  %Counts\n",
       "Region                              \n",
       "Northern Hemisphere     757    55.38\n",
       "Southern Hemisphere     610    44.62\n",
       "World                  1367   100.00"
      ]
     },
     "execution_count": 11,
     "metadata": {},
     "output_type": "execute_result"
    }
   ],
   "source": [
    "cities_n = df[\"City\"][df[\"Latitude\"]>=0].count()\n",
    "cities_s = df[\"City\"][df[\"Latitude\"]<0].count()\n",
    "total = df[\"City\"].count()\n",
    "dataset_df = pd.DataFrame({\"Region\":[\"Northern Hemisphere\",\"Southern Hemisphere\",\"World\"],\n",
    "              \"Counts\":[cities_n, cities_s, total]}).set_index(\"Region\")\n",
    "dataset_df[\"%Counts\"] = (100 * dataset_df[\"Counts\"]/total).round(2)\n",
    "dataset_df"
   ]
  },
  {
   "cell_type": "markdown",
   "metadata": {},
   "source": [
    "As you see from the above numbers, the distribution of the cities in terms of latitude is good."
   ]
  },
  {
   "cell_type": "markdown",
   "metadata": {},
   "source": [
    "### Plotting the Data"
   ]
  },
  {
   "cell_type": "code",
   "execution_count": 12,
   "metadata": {},
   "outputs": [
    {
     "name": "stdout",
     "output_type": "stream",
     "text": [
      "2019-02-26\n"
     ]
    }
   ],
   "source": [
    "today = pd.to_datetime('today').date()\n",
    "print(today)"
   ]
  },
  {
   "cell_type": "markdown",
   "metadata": {},
   "source": [
    "#### Latitude vs. Temperature Plot"
   ]
  },
  {
   "cell_type": "code",
   "execution_count": 13,
   "metadata": {},
   "outputs": [
    {
     "data": {
      "image/png": "[encoded data removed]",
      "text/plain": [
       "<Figure size 432x288 with 1 Axes>"
      ]
     },
     "metadata": {
      "needs_background": "light"
     },
     "output_type": "display_data"
    }
   ],
   "source": [
    "# Build a scatter plot for each data type\n",
    "plt.scatter(df[\"Latitude\"], df[\"Temparature\"], marker=\"P\", c='r')\n",
    "\n",
    "# Incorporate the other graph properties\n",
    "plt.title(\"Temperature in World Cities on {}\".format(today))\n",
    "plt.ylabel(\"Temperature (Celsius)\")\n",
    "plt.xlabel(\"Latitude\")\n",
    "plt.grid(True)\n",
    "\n",
    "# Save the figure\n",
    "plt.savefig(\"output/TemperatureInWorldCities-{}.png\".format(today))\n",
    "\n",
    "# Show plot\n",
    "plt.show()"
   ]
  },
  {
   "cell_type": "markdown",
   "metadata": {},
   "source": [
    "The Southern Hemisphere is currently tilted towards the sun and is therefore warmer than the Northern Hemisphere. \n",
    "From the above scatter plot you see that the weather gets warmer as it approaches the equator (0 Deg. Latitude) \n",
    "and then as we move North away from the equator, it gets colder at a faster rate.\n",
    "\n",
    "If we ran this analysis in September, the plot would probably be a mirror image of this one. "
   ]
  },
  {
   "cell_type": "markdown",
   "metadata": {},
   "source": [
    "#### Latitude vs. Humidity Plot"
   ]
  },
  {
   "cell_type": "code",
   "execution_count": 14,
   "metadata": {},
   "outputs": [
    {
     "data": {
      "image/png": "[encoded data removed]",
      "text/plain": [
       "<Figure size 432x288 with 1 Axes>"
      ]
     },
     "metadata": {
      "needs_background": "light"
     },
     "output_type": "display_data"
    }
   ],
   "source": [
    "# Build a scatter plot for each data type\n",
    "plt.scatter(df[\"Latitude\"], df[\"Humidity\"], marker=\"^\", c = 'g')\n",
    "\n",
    "# Incorporate the other graph properties\n",
    "plt.title(\"Humidity in World Cities on {}\".format(today))\n",
    "plt.ylabel(\"Humidity (%)\")\n",
    "plt.xlabel(\"Latitude\")\n",
    "plt.grid(True)\n",
    "\n",
    "# Save the figure\n",
    "plt.savefig(\"output/HumidityInWorldCities-{}.png\".format(today))\n",
    "\n",
    "# Show plot\n",
    "plt.show()"
   ]
  },
  {
   "cell_type": "markdown",
   "metadata": {},
   "source": [
    "Humidity does not seem to be related to the Latitude. It may relate to the proximity of the city to water bodies. \n",
    "There seems to be a strong band of cities with 100% humidity."
   ]
  },
  {
   "cell_type": "markdown",
   "metadata": {},
   "source": [
    "#### Latitude vs. Cloudiness Plot"
   ]
  },
  {
   "cell_type": "code",
   "execution_count": 15,
   "metadata": {},
   "outputs": [
    {
     "data": {
      "image/png": "[encoded data removed]",
      "text/plain": [
       "<Figure size 432x288 with 1 Axes>"
      ]
     },
     "metadata": {
      "needs_background": "light"
     },
     "output_type": "display_data"
    }
   ],
   "source": [
    "# Build a scatter plot for each data type\n",
    "plt.scatter(df[\"Latitude\"], df[\"Cloudiness\"], marker=\"o\", c = 'b')\n",
    "\n",
    "# Incorporate the other graph properties\n",
    "plt.title(\"Cloudiness in World Cities on {}\".format(today))\n",
    "plt.ylabel(\"Cloudiness (%)\")\n",
    "plt.xlabel(\"Latitude\")\n",
    "plt.grid(True)\n",
    "\n",
    "# Save the figure\n",
    "plt.savefig(\"output/CloudinessInWorldCities-{}.png\".format(today))\n",
    "# Show plot\n",
    "plt.show()"
   ]
  },
  {
   "cell_type": "markdown",
   "metadata": {},
   "source": [
    "There seems to be no relation between Latitude and Cloudiness. There is a strong band of cities with 0% cloudiness."
   ]
  },
  {
   "cell_type": "markdown",
   "metadata": {},
   "source": [
    "#### Latitude vs. Wind Speed Plot"
   ]
  },
  {
   "cell_type": "code",
   "execution_count": 16,
   "metadata": {},
   "outputs": [
    {
     "data": {
      "image/png": "[encoded data removed]",
      "text/plain": [
       "<Figure size 432x288 with 1 Axes>"
      ]
     },
     "metadata": {
      "needs_background": "light"
     },
     "output_type": "display_data"
    }
   ],
   "source": [
    "# Build a scatter plot for each data type\n",
    "plt.scatter(df[\"Latitude\"], df[\"Wind Speed\"], marker=\"v\", c = 'y')\n",
    "\n",
    "# Incorporate the other graph properties\n",
    "plt.title(\"Wind Speed in World Cities on {}\".format(today))\n",
    "plt.ylabel(\"Wind Speed (meter/sec)\")\n",
    "plt.xlabel(\"Latitude\")\n",
    "plt.grid(True)\n",
    "\n",
    "# Save the figure\n",
    "plt.savefig(\"output/WindSpeedInWorldCities-{}.png\".format(today))\n",
    "\n",
    "# Show plot\n",
    "plt.show()"
   ]
  },
  {
   "cell_type": "markdown",
   "metadata": {},
   "source": [
    "Latitude and wind speed do not seem to be related. But the city with the highest wind speed is in the \n",
    "Northern Hemisphere.\n"
   ]
  },
  {
   "cell_type": "code",
   "execution_count": null,
   "metadata": {},
   "outputs": [],
   "source": []
  }
 ],
 "metadata": {
  "anaconda-cloud": {},
  "kernelspec": {
   "display_name": "Python [conda env:PythonData]",
   "language": "python",
   "name": "pythondata"
  },
  "language_info": {
   "codemirror_mode": {
    "name": "ipython",
    "version": 3
   },
   "file_extension": ".py",
   "mimetype": "text/x-python",
   "name": "python",
   "nbconvert_exporter": "python",
   "pygments_lexer": "ipython3",
   "version": "3.6.8"
  }
 },
 "nbformat": 4,
 "nbformat_minor": 2
}
